{
  "nbformat": 4,
  "nbformat_minor": 0,
  "metadata": {
    "colab": {
      "provenance": [],
      "collapsed_sections": []
    },
    "kernelspec": {
      "name": "python3",
      "display_name": "Python 3"
    },
    "language_info": {
      "name": "python"
    }
  },
  "cells": [
    {
      "cell_type": "code",
      "execution_count": 9,
      "metadata": {
        "colab": {
          "base_uri": "https://localhost:8080/"
        },
        "id": "-u29ePf_yQ6k",
        "outputId": "144c73e5-d1e3-44c8-86b1-d4b3466f34b9"
      },
      "outputs": [
        {
          "output_type": "stream",
          "name": "stdout",
          "text": [
            "    YearsExperience    Salary\n",
            "0               1.1   39343.0\n",
            "1               1.3   46205.0\n",
            "2               1.5   37731.0\n",
            "3               2.0   43525.0\n",
            "4               2.2   39891.0\n",
            "5               2.9   56642.0\n",
            "6               3.0   60150.0\n",
            "7               3.2   54445.0\n",
            "8               3.2   64445.0\n",
            "9               3.7   57189.0\n",
            "10              3.9   63218.0\n",
            "11              4.0   55794.0\n",
            "12              4.0   56957.0\n",
            "13              4.1   57081.0\n",
            "14              4.5   61111.0\n",
            "15              4.9   67938.0\n",
            "16              5.1   66029.0\n",
            "17              5.3   83088.0\n",
            "18              5.9   81363.0\n",
            "19              6.0   93940.0\n",
            "20              6.8   91738.0\n",
            "21              7.1   98273.0\n",
            "22              7.9  101302.0\n",
            "23              8.2  113812.0\n",
            "24              8.7  109431.0\n",
            "25              9.0  105582.0\n",
            "26              9.5  116969.0\n",
            "27              9.6  112635.0\n",
            "28             10.3  122391.0\n",
            "29             10.5  121872.0\n"
          ]
        }
      ],
      "source": [
        "# Download and read the data set\n",
        "\n",
        "import pandas as pd\n",
        "df=pd.read_csv('/Salary_Data.csv')\n",
        "print(df)"
      ]
    },
    {
      "cell_type": "code",
      "source": [
        "# Visualize the data set\n",
        "\n",
        "import matplotlib.pyplot as plt\n",
        "import numpy as np\n",
        "# import pandas as pd\n",
        "dataset=pd.read_csv('/Salary_Data.csv')\n",
        "plt.scatter(dataset['YearsExperience'], dataset['Salary'],color='red')\n",
        "plt.title(\"linear Regression Salary Vs Experience\")\n",
        "plt.xlabel(\"Years of Experience\")\n",
        "plt.ylabel(\"Salaries of Employee\")\n",
        "plt.show()"
      ],
      "metadata": {
        "colab": {
          "base_uri": "https://localhost:8080/",
          "height": 295
        },
        "id": "2PUO2BBz1JMT",
        "outputId": "a7ee8989-4343-49f4-d2e8-eff6fb8c757b"
      },
      "execution_count": 10,
      "outputs": [
        {
          "output_type": "display_data",
          "data": {
            "text/plain": [
              "<Figure size 432x288 with 1 Axes>"
            ],
            "image/png": "[encoded data removed]"
          },
          "metadata": {
            "needs_background": "light"
          }
        }
      ]
    },
    {
      "cell_type": "code",
      "source": [
        "# Divide the dataset\n",
        "\n",
        "import matplotlib.pyplot as plt\n",
        "import numpy as np\n",
        "dataset=pd.read_csv('/Salary_Data.csv')\n",
        "\n",
        "#ALL PRINT THE SAME DATA\n",
        "\n",
        "X=dataset.iloc[:, :-1].values\n",
        "# X=dataset.iloc[:,0].values\n",
        "y=dataset.iloc[:, 1].values\n",
        "# X=dataset[Experience].values\n",
        "# X=dataset.iloc[:,1].values\n",
        "print(X)\n",
        "print(y)\n"
      ],
      "metadata": {
        "colab": {
          "base_uri": "https://localhost:8080/"
        },
        "id": "F3Ju5BXJ92lh",
        "outputId": "914ab57c-4ef6-4f29-a9bf-a102406c959a"
      },
      "execution_count": 13,
      "outputs": [
        {
          "output_type": "stream",
          "name": "stdout",
          "text": [
            "[[ 1.1]\n",
            " [ 1.3]\n",
            " [ 1.5]\n",
            " [ 2. ]\n",
            " [ 2.2]\n",
            " [ 2.9]\n",
            " [ 3. ]\n",
            " [ 3.2]\n",
            " [ 3.2]\n",
            " [ 3.7]\n",
            " [ 3.9]\n",
            " [ 4. ]\n",
            " [ 4. ]\n",
            " [ 4.1]\n",
            " [ 4.5]\n",
            " [ 4.9]\n",
            " [ 5.1]\n",
            " [ 5.3]\n",
            " [ 5.9]\n",
            " [ 6. ]\n",
            " [ 6.8]\n",
            " [ 7.1]\n",
            " [ 7.9]\n",
            " [ 8.2]\n",
            " [ 8.7]\n",
            " [ 9. ]\n",
            " [ 9.5]\n",
            " [ 9.6]\n",
            " [10.3]\n",
            " [10.5]]\n",
            "[ 39343.  46205.  37731.  43525.  39891.  56642.  60150.  54445.  64445.\n",
            "  57189.  63218.  55794.  56957.  57081.  61111.  67938.  66029.  83088.\n",
            "  81363.  93940.  91738.  98273. 101302. 113812. 109431. 105582. 116969.\n",
            " 112635. 122391. 121872.]\n"
          ]
        }
      ]
    },
    {
      "cell_type": "code",
      "source": [
        "#  Training and Testing (Splitting again)\n",
        "\n",
        "from sklearn.model_selection import train_test_split\n",
        "X_train, X_test, y_train, y_test=train_test_split(X,y,test_size=0.3, random_state=0)\n",
        "print(X_train)\n",
        "print(X_train.shape)\n"
      ],
      "metadata": {
        "colab": {
          "base_uri": "https://localhost:8080/"
        },
        "id": "briYjWLgBdf5",
        "outputId": "c2216188-2b9a-49ac-8c4a-dc1e2f9cdce6"
      },
      "execution_count": 18,
      "outputs": [
        {
          "output_type": "stream",
          "name": "stdout",
          "text": [
            "[[ 7.9]\n",
            " [ 2.9]\n",
            " [ 5.1]\n",
            " [ 3.2]\n",
            " [ 4.5]\n",
            " [ 8.2]\n",
            " [ 6.8]\n",
            " [ 1.3]\n",
            " [10.5]\n",
            " [ 3. ]\n",
            " [ 2.2]\n",
            " [ 5.9]\n",
            " [ 6. ]\n",
            " [ 3.7]\n",
            " [ 3.2]\n",
            " [ 9. ]\n",
            " [ 2. ]\n",
            " [ 1.1]\n",
            " [ 7.1]\n",
            " [ 4.9]\n",
            " [ 4. ]]\n",
            "(21, 1)\n"
          ]
        }
      ]
    },
    {
      "cell_type": "code",
      "source": [
        "#  Apply Linear Regression Model\n",
        "\n",
        "from sklearn.linear_model import LinearRegression\n",
        "reg=LinearRegression()\n",
        "reg.fit(X_train,y_train)\n",
        "y_prdict=reg.predict(X_test)\n",
        "print(y_prdict)\n",
        "\n"
      ],
      "metadata": {
        "colab": {
          "base_uri": "https://localhost:8080/"
        },
        "id": "kfQkhgBz8J9y",
        "outputId": "37afc011-e7ed-44db-92ae-5429b167d256"
      },
      "execution_count": 26,
      "outputs": [
        {
          "output_type": "stream",
          "name": "stdout",
          "text": [
            "[ 40817.78327049 123188.08258899  65154.46261459  63282.41035735\n",
            " 115699.87356004 108211.66453108 116635.89968866  64218.43648597\n",
            "  76386.77615802]\n"
          ]
        }
      ]
    },
    {
      "cell_type": "code",
      "source": [
        "# Analyzing the Results\n",
        "\n",
        "diff_pred=y_test-y_prdict\n",
        "print(diff_pred)"
      ],
      "metadata": {
        "colab": {
          "base_uri": "https://localhost:8080/"
        },
        "id": "6ApqhEj_A2G4",
        "outputId": "55a47b30-53ce-4b59-8bb4-83cf4ddab1a5"
      },
      "execution_count": 27,
      "outputs": [
        {
          "output_type": "stream",
          "name": "stdout",
          "text": [
            "[-3086.78327049  -797.08258899 -8073.46261459   -64.41035735\n",
            "  1269.12643996  1219.33546892 -4000.89968866 -8424.43648597\n",
            "  6701.22384198]\n"
          ]
        }
      ]
    },
    {
      "cell_type": "code",
      "source": [
        "# Analyzing the Results\n",
        "\n",
        "res_df=pd.concat([pd.Series(y_prdict),pd.Series(y_test),pd.Series(diff_pred)], axis=1)\n",
        "res_df.columns=['Prediction','Original Data', 'Diff']\n",
        "print(res_df)"
      ],
      "metadata": {
        "colab": {
          "base_uri": "https://localhost:8080/"
        },
        "id": "oLBfqSeGBCM1",
        "outputId": "cdc3696c-6410-42eb-bc2c-37a92d02fccf"
      },
      "execution_count": 28,
      "outputs": [
        {
          "output_type": "stream",
          "name": "stdout",
          "text": [
            "      Prediction  Original Data         Diff\n",
            "0   40817.783270        37731.0 -3086.783270\n",
            "1  123188.082589       122391.0  -797.082589\n",
            "2   65154.462615        57081.0 -8073.462615\n",
            "3   63282.410357        63218.0   -64.410357\n",
            "4  115699.873560       116969.0  1269.126440\n",
            "5  108211.664531       109431.0  1219.335469\n",
            "6  116635.899689       112635.0 -4000.899689\n",
            "7   64218.436486        55794.0 -8424.436486\n",
            "8   76386.776158        83088.0  6701.223842\n"
          ]
        }
      ]
    },
    {
      "cell_type": "code",
      "source": [
        "# Visualize the Training data\n",
        "\n",
        "plt.scatter(X_train, y_train, color='red')\n",
        "plt.plot(X_train, reg.predict(X_train),color='blue')\n",
        "plt.title(\"Training of linear Regression Salary Vs Experience\")\n",
        "plt.xlabel(\"Years of Employee\")\n",
        "plt.ylabel(\"Salaries of Employee\")\n",
        "plt.show()"
      ],
      "metadata": {
        "colab": {
          "base_uri": "https://localhost:8080/",
          "height": 295
        },
        "id": "axCpvviBBwHo",
        "outputId": "cb1489a3-1c52-4d7b-8fb2-f6c474ff9b07"
      },
      "execution_count": 29,
      "outputs": [
        {
          "output_type": "display_data",
          "data": {
            "text/plain": [
              "<Figure size 432x288 with 1 Axes>"
            ],
            "image/png": "[encoded data removed]"
          },
          "metadata": {
            "needs_background": "light"
          }
        }
      ]
    },
    {
      "cell_type": "code",
      "source": [
        "# Visualize the Testing data\n",
        "\n",
        "plt.scatter(X_test, y_test, color='red')\n",
        "plt.plot(X_train, reg.predict(X_train),color='blue')\n",
        "plt.title(\"Training of linear Regression Salary Vs Experience\")\n",
        "plt.xlabel(\"Years of Employee\")\n",
        "plt.ylabel(\"Salaries of Employee\")\n",
        "plt.show()"
      ],
      "metadata": {
        "colab": {
          "base_uri": "https://localhost:8080/",
          "height": 295
        },
        "id": "I0OJPl-LC2EJ",
        "outputId": "75de8562-71f5-40bd-bb38-608b65e73a32"
      },
      "execution_count": 30,
      "outputs": [
        {
          "output_type": "display_data",
          "data": {
            "text/plain": [
              "<Figure size 432x288 with 1 Axes>"
            ],
            "image/png": "[encoded data removed]"
          },
          "metadata": {
            "needs_background": "light"
          }
        }
      ]
    },
    {
      "cell_type": "code",
      "source": [
        "# Model Evaluation\n",
        "\n",
        "import sklearn.metrics as sm\n",
        "import numpy as np\n",
        "print(\"Root Mean Squared Error =\", round(np.sqrt(sm.mean_squared_error(y_test,y_prdict)),2))\n",
        "print('Explain Variance Score =', round(sm.explained_variance_score(y_test,y_prdict),2))\n",
        "print('R2 score =', round(sm.r2_score(y_test,y_prdict),2))\n"
      ],
      "metadata": {
        "colab": {
          "base_uri": "https://localhost:8080/"
        },
        "id": "4H8b2IwtC8gd",
        "outputId": "4c18b8c4-03ab-47df-c1c3-d948e105849f"
      },
      "execution_count": 32,
      "outputs": [
        {
          "output_type": "stream",
          "name": "stdout",
          "text": [
            "Root Mean Squared Error = 4834.26\n",
            "Explain Variance Score = 0.98\n",
            "R2 score = 0.97\n"
          ]
        }
      ]
    },
    {
      "cell_type": "code",
      "source": [
        "# Salary Prediction\n",
        "\n",
        "new_salary_pred=reg.predict([[15]])\n",
        "print(new_salary_pred)"
      ],
      "metadata": {
        "colab": {
          "base_uri": "https://localhost:8080/"
        },
        "id": "hBEdqZRBE_S_",
        "outputId": "5fc7538c-f57f-416a-dbea-505c78d4f8b4"
      },
      "execution_count": 35,
      "outputs": [
        {
          "output_type": "stream",
          "name": "stdout",
          "text": [
            "[167181.3106341]\n"
          ]
        }
      ]
    },
    {
      "cell_type": "code",
      "source": [
        "# Divide the dataset\n",
        "\n",
        "import matplotlib.pyplot as plt\n",
        "import numpy as np\n",
        "dataset=pd.read_csv('/Salary_Data.csv')\n",
        "X = dataset.iloc[:, [0]].values\n",
        "print(X)"
      ],
      "metadata": {
        "colab": {
          "base_uri": "https://localhost:8080/"
        },
        "id": "pGpWdGH-7VHG",
        "outputId": "aa002ae2-b40f-40ac-9d12-75048f13f3ac"
      },
      "execution_count": 19,
      "outputs": [
        {
          "output_type": "stream",
          "name": "stdout",
          "text": [
            "[[ 1.1]\n",
            " [ 1.3]\n",
            " [ 1.5]\n",
            " [ 2. ]\n",
            " [ 2.2]\n",
            " [ 2.9]\n",
            " [ 3. ]\n",
            " [ 3.2]\n",
            " [ 3.2]\n",
            " [ 3.7]\n",
            " [ 3.9]\n",
            " [ 4. ]\n",
            " [ 4. ]\n",
            " [ 4.1]\n",
            " [ 4.5]\n",
            " [ 4.9]\n",
            " [ 5.1]\n",
            " [ 5.3]\n",
            " [ 5.9]\n",
            " [ 6. ]\n",
            " [ 6.8]\n",
            " [ 7.1]\n",
            " [ 7.9]\n",
            " [ 8.2]\n",
            " [ 8.7]\n",
            " [ 9. ]\n",
            " [ 9.5]\n",
            " [ 9.6]\n",
            " [10.3]\n",
            " [10.5]]\n"
          ]
        }
      ]
    },
    {
      "cell_type": "code",
      "source": [
        "\n",
        "print(y_train)\n",
        "print(y_train.shape)"
      ],
      "metadata": {
        "colab": {
          "base_uri": "https://localhost:8080/"
        },
        "id": "a1obFCt69nbO",
        "outputId": "bbdc7446-0cd1-4eda-af62-e92c2d507509"
      },
      "execution_count": 21,
      "outputs": [
        {
          "output_type": "stream",
          "name": "stdout",
          "text": [
            "[101302.  56642.  66029.  64445.  61111. 113812.  91738.  46205. 121872.\n",
            "  60150.  39891.  81363.  93940.  57189.  54445. 105582.  43525.  39343.\n",
            "  98273.  67938.  56957.]\n",
            "(21,)\n"
          ]
        }
      ]
    },
    {
      "cell_type": "code",
      "source": [
        "print(y_test)\n",
        "print(y_test.shape)"
      ],
      "metadata": {
        "colab": {
          "base_uri": "https://localhost:8080/"
        },
        "id": "P0XjQxRL_SrY",
        "outputId": "2e3b6c26-b61c-45c6-a5bf-0b6c70d350e8"
      },
      "execution_count": 22,
      "outputs": [
        {
          "output_type": "stream",
          "name": "stdout",
          "text": [
            "[ 37731. 122391.  57081.  63218. 116969. 109431. 112635.  55794.  83088.]\n",
            "(9,)\n"
          ]
        }
      ]
    },
    {
      "cell_type": "code",
      "source": [
        "# Model Evaluation\n",
        "\n",
        "from sklearn.linear_model import LinearRegression\n",
        "reg = LinearRegression()\n",
        "reg.fit(X_train,y_train)"
      ],
      "metadata": {
        "colab": {
          "base_uri": "https://localhost:8080/"
        },
        "id": "-kX6gweY_aAC",
        "outputId": "d7bce22d-d7ac-42ab-8967-a2f6ca0120b1"
      },
      "execution_count": 23,
      "outputs": [
        {
          "output_type": "execute_result",
          "data": {
            "text/plain": [
              "LinearRegression()"
            ]
          },
          "metadata": {},
          "execution_count": 23
        }
      ]
    },
    {
      "cell_type": "code",
      "source": [
        "# Divide the dataset\n",
        "\n",
        "import matplotlib.pyplot as plt\n",
        "import numpy as np\n",
        "dataset=pd.read_csv('/Salary_Data.csv')\n",
        "print(X_test)\n",
        "print(X_test.shape)"
      ],
      "metadata": {
        "id": "_3kNFqXK500Z",
        "colab": {
          "base_uri": "https://localhost:8080/"
        },
        "outputId": "f503ce21-7a71-4723-f986-5a41ec35d2e0"
      },
      "execution_count": 20,
      "outputs": [
        {
          "output_type": "stream",
          "name": "stdout",
          "text": [
            "[[ 1.5]\n",
            " [10.3]\n",
            " [ 4.1]\n",
            " [ 3.9]\n",
            " [ 9.5]\n",
            " [ 8.7]\n",
            " [ 9.6]\n",
            " [ 4. ]\n",
            " [ 5.3]]\n",
            "(9, 1)\n"
          ]
        }
      ]
    }
  ]
}